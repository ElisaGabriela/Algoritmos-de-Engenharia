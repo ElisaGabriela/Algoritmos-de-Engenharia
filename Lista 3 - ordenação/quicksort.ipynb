{
 "cells": [
  {
   "cell_type": "code",
   "execution_count": 1,
   "id": "e7e34041-abae-4e94-ab0f-f0736cb37c51",
   "metadata": {},
   "outputs": [],
   "source": [
    "import time\n",
    "import random\n",
    "import matplotlib.pyplot as plt\n",
    "import numpy as np\n",
    "import math"
   ]
  },
  {
   "cell_type": "code",
   "execution_count": 2,
   "id": "45356915-3268-4d62-8158-95fd99a72f41",
   "metadata": {},
   "outputs": [],
   "source": [
    "np.random.seed(42)"
   ]
  },
  {
   "cell_type": "code",
   "execution_count": 3,
   "id": "93784057-ee75-451f-a23c-a27194e931c2",
   "metadata": {},
   "outputs": [],
   "source": [
    "def quicksort(arr):\n",
    "    if len(arr) <= 1:\n",
    "        return arr\n",
    "    else:\n",
    "        pivot = arr[-1]  \n",
    "        left = [x for x in arr[:-1] if x <= pivot]\n",
    "        right = [x for x in arr[:-1] if x > pivot]\n",
    "        return quicksort(left) + [pivot] + quicksort(right)"
   ]
  },
  {
   "cell_type": "code",
   "execution_count": 4,
   "id": "72d29753-583f-400b-bbb2-e44727a6e807",
   "metadata": {},
   "outputs": [],
   "source": [
    "def quicksort_random(arr):\n",
    "    if len(arr) <= 1:\n",
    "        return arr\n",
    "    else:\n",
    "        pivot_index = random.randint(0, len(arr) - 1)\n",
    "        pivot = arr[pivot_index]\n",
    "        arr[0], arr[pivot_index] = arr[pivot_index], arr[0]  \n",
    "        left = [x for x in arr[1:] if x <= pivot]\n",
    "        right = [x for x in arr[1:] if x > pivot]\n",
    "        return quicksort_random(left) + [pivot] + quicksort_random(right)"
   ]
  },
  {
   "cell_type": "code",
   "execution_count": 5,
   "id": "cc950478-1527-4ef2-bd12-05cfbf48ecab",
   "metadata": {},
   "outputs": [],
   "source": [
    "n = 2000\n",
    "sorted_list = list(range(n))\n",
    "sorted_list2 = list(range(n))\n",
    "reverse_list = list(range(n, 0, -1))\n",
    "reverse_list2 = list(range(n, 0, -1))\n",
    "random_list = random.sample(range(n), n)\n",
    "random_list2 = random_list"
   ]
  },
  {
   "cell_type": "code",
   "execution_count": 6,
   "id": "4a0ac9c8-f502-428c-af72-cc9f106b503d",
   "metadata": {},
   "outputs": [
    {
     "name": "stdout",
     "output_type": "stream",
     "text": [
      "0.2796616554260254\n",
      "0.21023869514465332\n",
      "0.006734371185302734\n"
     ]
    }
   ],
   "source": [
    "start = time.time()\n",
    "quicksort(sorted_list)\n",
    "end = time.time()\n",
    "print (end - start)\n",
    "\n",
    "start = time.time()\n",
    "quicksort(reverse_list)\n",
    "end = time.time()\n",
    "print (end - start)\n",
    "\n",
    "start = time.time()\n",
    "quicksort(random_list)\n",
    "end = time.time()\n",
    "print (end - start)"
   ]
  },
  {
   "cell_type": "code",
   "execution_count": 7,
   "id": "deeb8f14-a474-433b-ba65-ee9d03aab3f6",
   "metadata": {},
   "outputs": [
    {
     "name": "stdout",
     "output_type": "stream",
     "text": [
      "0.007536411285400391\n",
      "0.008701324462890625\n",
      "0.0048067569732666016\n"
     ]
    }
   ],
   "source": [
    "start = time.time()\n",
    "quicksort_random(sorted_list2)\n",
    "end = time.time()\n",
    "print (end - start)\n",
    "\n",
    "start = time.time()\n",
    "quicksort_random(reverse_list2)\n",
    "end = time.time()\n",
    "print (end - start)\n",
    "\n",
    "start = time.time()\n",
    "quicksort_random(random_list2)\n",
    "end = time.time()\n",
    "print (end - start)"
   ]
  }
 ],
 "metadata": {
  "kernelspec": {
   "display_name": "Python 3 (ipykernel)",
   "language": "python",
   "name": "python3"
  },
  "language_info": {
   "codemirror_mode": {
    "name": "ipython",
    "version": 3
   },
   "file_extension": ".py",
   "mimetype": "text/x-python",
   "name": "python",
   "nbconvert_exporter": "python",
   "pygments_lexer": "ipython3",
   "version": "3.10.13"
  }
 },
 "nbformat": 4,
 "nbformat_minor": 5
}
