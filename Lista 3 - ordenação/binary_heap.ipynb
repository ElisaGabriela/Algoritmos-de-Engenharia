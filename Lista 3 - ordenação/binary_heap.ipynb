{
 "cells": [
  {
   "cell_type": "code",
   "execution_count": 1,
   "id": "29a6f6d9-f282-4dbe-b4a6-ba10bcb74d8c",
   "metadata": {},
   "outputs": [],
   "source": [
    "import time\n",
    "import random\n",
    "import matplotlib.pyplot as plt\n",
    "import numpy as np\n",
    "import math"
   ]
  },
  {
   "cell_type": "code",
   "execution_count": 2,
   "id": "26f8c046-12d9-4014-a3af-f7d5df170964",
   "metadata": {},
   "outputs": [],
   "source": [
    "np.random.seed(42)"
   ]
  },
  {
   "cell_type": "code",
   "execution_count": 3,
   "id": "1fe73c1a-3843-49cc-87c3-12b461c3a379",
   "metadata": {},
   "outputs": [],
   "source": [
    "A = [4, 10, 13, 67, 85, 48, 86, 15, 29, 90]"
   ]
  },
  {
   "cell_type": "code",
   "execution_count": 4,
   "id": "f739d17b-882f-4592-a9d5-10a5ad27f0d9",
   "metadata": {},
   "outputs": [],
   "source": [
    "def max_heapify(A, i, tamanho_heap):\n",
    "    l = 2 * i + 1  # índice do filho esquerdo\n",
    "    r = 2 * i + 2  # índice do filho direito\n",
    "    maior = i\n",
    "\n",
    "    if l < tamanho_heap and A[l] > A[i]:\n",
    "        maior = l\n",
    "    else:\n",
    "        maior = i\n",
    "\n",
    "    if r < tamanho_heap and A[r] > A[maior]:\n",
    "        maior = r\n",
    "\n",
    "    if maior != i:\n",
    "        A[i], A[maior] = A[maior], A[i]  \n",
    "        max_heapify(A, maior, tamanho_heap)  \n"
   ]
  },
  {
   "cell_type": "code",
   "execution_count": 5,
   "id": "6ea7252d-aa49-4fc1-a737-06ad2ac64896",
   "metadata": {},
   "outputs": [],
   "source": [
    "def build_max_heap(A):\n",
    "    tamanho_heap = len(A)\n",
    "    for i in range(tamanho_heap // 2 - 1, -1, -1):\n",
    "        max_heapify(A, i, tamanho_heap)"
   ]
  },
  {
   "cell_type": "code",
   "execution_count": 6,
   "id": "ad8a8fb0-6f0c-4b87-bc0e-59f2abf895fe",
   "metadata": {},
   "outputs": [],
   "source": [
    "def heap_sort(A):\n",
    "    build_max_heap(A)\n",
    "    \n",
    "    tamanho_heap = len(A)\n",
    "    \n",
    "    for i in range(len(A) - 1, 0, -1):\n",
    "        A[0], A[i] = A[i], A[0]\n",
    "        tamanho_heap -= 1\n",
    "        max_heapify(A, 0, tamanho_heap)"
   ]
  },
  {
   "cell_type": "code",
   "execution_count": 7,
   "id": "f6f50bb7-4d76-4600-b8a4-d93a37e0202d",
   "metadata": {},
   "outputs": [],
   "source": [
    "def heap_maximum(A):\n",
    "    return A[0]"
   ]
  },
  {
   "cell_type": "code",
   "execution_count": 8,
   "id": "9a9fb767-84e6-4f99-a4c0-93f50ad0c2a1",
   "metadata": {},
   "outputs": [],
   "source": [
    "def heap_extract_max(A):\n",
    "    if len(A) < 1:\n",
    "        raise IndexError(\"Heap underflow\")\n",
    "\n",
    "    max_val = A[0]\n",
    "    \n",
    "    A[0] = A[-1]\n",
    "    \n",
    "    A.pop()\n",
    "    \n",
    "    max_heapify(A, 0, len(A))  \n",
    "\n",
    "    return max_val"
   ]
  },
  {
   "cell_type": "code",
   "execution_count": 9,
   "id": "05fe48e3-b88f-45f7-b7ea-17469d871d3d",
   "metadata": {},
   "outputs": [],
   "source": [
    "def heap_increase_key(A, i, chave):\n",
    "    if chave < A[i]:\n",
    "        raise ValueError(\"A nova chave é menor que a chave atual\")\n",
    "    \n",
    "    A[i] = chave\n",
    "    \n",
    "    while i > 0 and A[(i - 1) // 2] < A[i]:  \n",
    "        A[i], A[(i - 1) // 2] = A[(i - 1) // 2], A[i]\n",
    "        i = (i - 1) // 2"
   ]
  },
  {
   "cell_type": "code",
   "execution_count": 10,
   "id": "42957755-090e-47da-8a28-b7225cb8c3cd",
   "metadata": {},
   "outputs": [],
   "source": [
    "def max_heap_insert(A, chave):\n",
    "    A.append(-math.inf)  # -∞ no final da heap\n",
    "    \n",
    "    heap_increase_key(A, len(A) - 1, chave)"
   ]
  },
  {
   "cell_type": "code",
   "execution_count": 11,
   "id": "77de7d29-e61b-43bb-a681-b1a9db69e3df",
   "metadata": {},
   "outputs": [],
   "source": [
    "def print_heap(A):\n",
    "    print(\"Estado atual da Max-Heap:\", A)"
   ]
  },
  {
   "cell_type": "code",
   "execution_count": 12,
   "id": "6b87b69c-7d58-43aa-afb2-2bc111c42616",
   "metadata": {},
   "outputs": [],
   "source": [
    "build_max_heap(A)"
   ]
  },
  {
   "cell_type": "code",
   "execution_count": 13,
   "id": "cee13f33-4363-4777-adbd-eb8233c7027e",
   "metadata": {},
   "outputs": [
    {
     "name": "stdout",
     "output_type": "stream",
     "text": [
      "Estado atual da Max-Heap: [90, 85, 86, 67, 10, 48, 13, 15, 29, 4]\n"
     ]
    }
   ],
   "source": [
    "print_heap(A)"
   ]
  },
  {
   "cell_type": "code",
   "execution_count": 14,
   "id": "b8356b30-c54b-4a43-861a-20b3a62032a1",
   "metadata": {},
   "outputs": [
    {
     "name": "stdout",
     "output_type": "stream",
     "text": [
      "90\n"
     ]
    }
   ],
   "source": [
    "raiz = heap_maximum(A)\n",
    "print(raiz)"
   ]
  },
  {
   "cell_type": "code",
   "execution_count": 15,
   "id": "d239b2b3-1dd0-4de1-9ae9-f65596c8f75c",
   "metadata": {},
   "outputs": [
    {
     "name": "stdout",
     "output_type": "stream",
     "text": [
      "90\n",
      "Estado atual da Max-Heap: [86, 85, 48, 67, 10, 4, 13, 15, 29]\n"
     ]
    }
   ],
   "source": [
    "extrair_raiz = heap_extract_max(A)\n",
    "print(extrair_raiz)\n",
    "print_heap(A)"
   ]
  },
  {
   "cell_type": "code",
   "execution_count": 16,
   "id": "78e5ec51-edca-4541-9fab-d695d8a95724",
   "metadata": {},
   "outputs": [
    {
     "name": "stdout",
     "output_type": "stream",
     "text": [
      "Estado atual da Max-Heap: [100, 86, 48, 85, 10, 4, 13, 15, 29]\n"
     ]
    }
   ],
   "source": [
    "heap_increase_key(A, 3, 100)\n",
    "print_heap(A)"
   ]
  },
  {
   "cell_type": "code",
   "execution_count": 17,
   "id": "04032feb-19ce-40ed-beee-80c0d6544a4f",
   "metadata": {},
   "outputs": [
    {
     "name": "stdout",
     "output_type": "stream",
     "text": [
      "Estado atual da Max-Heap: [100, 86, 48, 85, 50, 4, 13, 15, 29, 10]\n"
     ]
    }
   ],
   "source": [
    "max_heap_insert(A, 50)\n",
    "print_heap(A)"
   ]
  },
  {
   "cell_type": "code",
   "execution_count": 18,
   "id": "2a4a437a-cc61-46d3-96fa-f504f3411976",
   "metadata": {},
   "outputs": [
    {
     "name": "stdout",
     "output_type": "stream",
     "text": [
      "Heap inicial:\n",
      "Estado atual da Max-Heap: [50, 30, 20, 15, 10, 8, 16]\n",
      "\n",
      "Inserindo o elemento 40 na max-heap:\n",
      "Estado atual da Max-Heap: [50, 40, 20, 30, 10, 8, 16, 15]\n",
      "\n",
      "Inserindo o elemento 60 na max-heap:\n",
      "Estado atual da Max-Heap: [60, 50, 20, 40, 10, 8, 16, 15, 30]\n"
     ]
    }
   ],
   "source": [
    "if __name__ == \"__main__\":\n",
    "    max_heap = [50, 30, 20, 15, 10, 8, 16]\n",
    "    \n",
    "    print(\"Heap inicial:\")\n",
    "    print_heap(max_heap)\n",
    "    \n",
    "    print(\"\\nInserindo o elemento 40 na max-heap:\")\n",
    "    max_heap_insert(max_heap, 40)\n",
    "    print_heap(max_heap)\n",
    "    \n",
    "    print(\"\\nInserindo o elemento 60 na max-heap:\")\n",
    "    max_heap_insert(max_heap, 60)\n",
    "    print_heap(max_heap)"
   ]
  }
 ],
 "metadata": {
  "kernelspec": {
   "display_name": "Python 3 (ipykernel)",
   "language": "python",
   "name": "python3"
  },
  "language_info": {
   "codemirror_mode": {
    "name": "ipython",
    "version": 3
   },
   "file_extension": ".py",
   "mimetype": "text/x-python",
   "name": "python",
   "nbconvert_exporter": "python",
   "pygments_lexer": "ipython3",
   "version": "3.10.13"
  }
 },
 "nbformat": 4,
 "nbformat_minor": 5
}
