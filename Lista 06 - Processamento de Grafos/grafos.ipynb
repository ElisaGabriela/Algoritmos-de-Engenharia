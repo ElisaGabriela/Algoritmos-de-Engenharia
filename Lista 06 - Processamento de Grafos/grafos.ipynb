{
 "cells": [
  {
   "cell_type": "code",
   "execution_count": 1,
   "id": "bcfa9391-0ecd-47c8-a6f5-d2f3fce16d97",
   "metadata": {},
   "outputs": [],
   "source": [
    "from collections import defaultdict"
   ]
  },
  {
   "cell_type": "code",
   "execution_count": 2,
   "id": "27f6916f-f892-4b97-b2d0-81fde1a0d225",
   "metadata": {},
   "outputs": [],
   "source": [
    "class Graph:\n",
    "    def __init__(self):\n",
    "        self.graph = defaultdict(list)\n",
    "\n",
    "    def add_edge(self, u, v):\n",
    "        self.graph[u].append(v)\n",
    "\n",
    "    def topological_sort_util(self, v, visited, stack):\n",
    "        visited.add(v)\n",
    "        for neighbor in self.graph[v]:\n",
    "            if neighbor not in visited:\n",
    "                self.topological_sort_util(neighbor, visited, stack)\n",
    "        stack.append(v)\n",
    "\n",
    "    def topological_sort(self):\n",
    "        visited = set()\n",
    "        stack = []\n",
    "\n",
    "        for node in list(self.graph.keys()):\n",
    "            if node not in visited:\n",
    "                self.topological_sort_util(node, visited, stack)\n",
    "\n",
    "        return stack[::-1]  "
   ]
  },
  {
   "cell_type": "code",
   "execution_count": 3,
   "id": "233466ef-bada-46d3-af46-3f8ce6ebb3a4",
   "metadata": {},
   "outputs": [],
   "source": [
    "g = Graph()\n",
    "g.add_edge(\"Coleta de Dados\", \"Pré-processamento de Dados\")\n",
    "g.add_edge(\"Pré-processamento de Dados\", \"Treinamento de Modelo\")\n",
    "g.add_edge(\"Treinamento de Modelo\", \"Validação do Modelo\")\n",
    "g.add_edge(\"Validação do Modelo\", \"Inferência\")"
   ]
  },
  {
   "cell_type": "code",
   "execution_count": 4,
   "id": "8e3109cd-6a8b-41bb-8f8b-adc5e945c9e0",
   "metadata": {},
   "outputs": [
    {
     "name": "stdout",
     "output_type": "stream",
     "text": [
      "A ordem topológica do grafo é: ['Coleta de Dados', 'Pré-processamento de Dados', 'Treinamento de Modelo', 'Validação do Modelo', 'Inferência']\n"
     ]
    }
   ],
   "source": [
    "topological_order = g.topological_sort()\n",
    "print(\"A ordem topológica do grafo é:\", topological_order)"
   ]
  },
  {
   "cell_type": "code",
   "execution_count": 5,
   "id": "cc500b00-322a-4dbc-a483-74bfd4394494",
   "metadata": {},
   "outputs": [],
   "source": [
    "def topological_sort_dfs(graph):\n",
    "    visited = set() \n",
    "    stack = []       \n",
    "    on_stack = set()\n",
    "\n",
    "    def dfs(node):\n",
    "        if node in visited:\n",
    "            return\n",
    "  \n",
    "        on_stack.add(node)\n",
    "        \n",
    "        for neighbor in graph.get(node, []):\n",
    "            dfs(neighbor)\n",
    "        \n",
    "        visited.add(node)\n",
    "        on_stack.remove(node)\n",
    "        stack.append(node)\n",
    "\n",
    "    for node in graph:\n",
    "        if node not in visited:\n",
    "            dfs(node)\n",
    "    \n",
    "    return stack[::-1]"
   ]
  },
  {
   "cell_type": "code",
   "execution_count": null,
   "id": "880d4266-4a51-433b-bdb4-612532c444ff",
   "metadata": {},
   "outputs": [],
   "source": []
  }
 ],
 "metadata": {
  "kernelspec": {
   "display_name": "Python 3 (ipykernel)",
   "language": "python",
   "name": "python3"
  },
  "language_info": {
   "codemirror_mode": {
    "name": "ipython",
    "version": 3
   },
   "file_extension": ".py",
   "mimetype": "text/x-python",
   "name": "python",
   "nbconvert_exporter": "python",
   "pygments_lexer": "ipython3",
   "version": "3.10.13"
  }
 },
 "nbformat": 4,
 "nbformat_minor": 5
}
