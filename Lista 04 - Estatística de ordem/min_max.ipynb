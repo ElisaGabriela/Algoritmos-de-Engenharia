{
 "cells": [
  {
   "cell_type": "code",
   "execution_count": 1,
   "id": "b79cceb4-35ee-46fa-826a-e341611dc176",
   "metadata": {},
   "outputs": [],
   "source": [
    "import time\n",
    "import random\n",
    "import matplotlib.pyplot as plt\n",
    "import numpy as np\n",
    "import math\n",
    "from random import randint\n",
    "from math import ceil"
   ]
  },
  {
   "cell_type": "code",
   "execution_count": 2,
   "id": "c807fd01-e48c-4c84-9541-097df32bcd8f",
   "metadata": {},
   "outputs": [],
   "source": [
    "np.random.seed(42)"
   ]
  },
  {
   "cell_type": "code",
   "execution_count": 3,
   "id": "cfef9bc4-2ef0-4b1b-8121-9cd4db2c0c70",
   "metadata": {},
   "outputs": [],
   "source": [
    "def MINIMUM(A):\n",
    "    min_val = A[0]\n",
    "    for num in A:\n",
    "        if num < min_val:\n",
    "            min_val = num\n",
    "    \n",
    "    return min_val"
   ]
  },
  {
   "cell_type": "code",
   "execution_count": 4,
   "id": "0c598959-639b-417d-8b5a-64ec5f00122c",
   "metadata": {},
   "outputs": [],
   "source": [
    "def MAXIMUM(A):\n",
    "    max_val = A[0]\n",
    "    for num in A:\n",
    "        if num > max_val:\n",
    "            max_val = num\n",
    "    \n",
    "    return max_val"
   ]
  },
  {
   "cell_type": "code",
   "execution_count": 5,
   "id": "ed45b482-d6f5-4e74-aa91-565b19bf4446",
   "metadata": {},
   "outputs": [],
   "source": [
    "def MINIMUM_AND_MAXIMUM(A):\n",
    "    \n",
    "    n = len(A)\n",
    "    \n",
    "    # VERIFICANDO A PARIDADE \n",
    "    if n % 2 == 1:  # n é ímpar\n",
    "        mini = A[0]\n",
    "        maxi = A[0]\n",
    "        start_index = 1  # segundo elemento\n",
    "    else:  # n é par\n",
    "        if A[0] < A[1]:\n",
    "            mini = A[0]\n",
    "            maxi = A[1]\n",
    "        else:\n",
    "            mini = A[1]\n",
    "            maxi = A[0]\n",
    "        start_index = 2  # Começa a processar do terceiro elemento\n",
    "\n",
    "    # processando o resto do vetor em pares\n",
    "    for i in range(start_index, n, 2):\n",
    "        if i + 1 < n:\n",
    "            # comparando o par (A[i], A[i + 1])\n",
    "            if A[i] < A[i + 1]:\n",
    "                pair_min, pair_max = A[i], A[i + 1]\n",
    "            else:\n",
    "                pair_min, pair_max = A[i + 1], A[i]\n",
    "\n",
    "            # atualiza o mini e maxi, se precisar\n",
    "            if mini > pair_min:\n",
    "                mini = pair_min\n",
    "            if maxi < pair_max:\n",
    "                maxi = pair_max\n",
    "\n",
    "    return mini, maxi"
   ]
  },
  {
   "cell_type": "code",
   "execution_count": 6,
   "id": "9b59623d-6bb8-4db2-a7f7-75123844aabc",
   "metadata": {},
   "outputs": [],
   "source": [
    "size = 10000000\n",
    "A = np.random.choice(range(size * 10), size, replace=False)"
   ]
  },
  {
   "cell_type": "code",
   "execution_count": 7,
   "id": "9cfaa715-72e9-47a0-b436-e46bb29811c7",
   "metadata": {},
   "outputs": [
    {
     "name": "stdout",
     "output_type": "stream",
     "text": [
      "1.517263412475586\n"
     ]
    }
   ],
   "source": [
    "start = time.time()\n",
    "MINIMUM(A)\n",
    "MAXIMUM(A)\n",
    "end = time.time()\n",
    "print (end - start)"
   ]
  },
  {
   "cell_type": "code",
   "execution_count": 8,
   "id": "3d116a3b-da43-4295-be9e-9ffa86a457a3",
   "metadata": {},
   "outputs": [
    {
     "name": "stdout",
     "output_type": "stream",
     "text": [
      "2.505509853363037\n"
     ]
    }
   ],
   "source": [
    "start = time.time()\n",
    "MINIMUM_AND_MAXIMUM(A)\n",
    "end = time.time()\n",
    "print (end - start)"
   ]
  },
  {
   "cell_type": "code",
   "execution_count": 9,
   "id": "e5978f16-5db5-427c-9450-6572f5e7ad24",
   "metadata": {},
   "outputs": [],
   "source": [
    "def find_min_and_max_separate(arr):\n",
    "    if len(arr) == 0:\n",
    "        return None, None\n",
    "    \n",
    "    mini = arr[0]\n",
    "    maxi = arr[0]\n",
    "    \n",
    "    for num in arr:\n",
    "        if num < mini:\n",
    "            mini = num\n",
    "        if num > maxi:\n",
    "            maxi = num\n",
    "    \n",
    "    return mini, maxi"
   ]
  },
  {
   "cell_type": "code",
   "execution_count": 10,
   "id": "a798c762-2259-4501-9d25-5ebb79fb25df",
   "metadata": {},
   "outputs": [],
   "source": [
    "def find_min_and_max_simultaneous(arr):\n",
    "    n = len(arr)\n",
    "    if n == 0:\n",
    "        return None, None\n",
    "\n",
    "    if n % 2 == 1:  # n é ímpar\n",
    "        mini = arr[0]\n",
    "        maxi = arr[0]\n",
    "        start_index = 1\n",
    "    else:  # n é par\n",
    "        if arr[0] < arr[1]:\n",
    "            mini = arr[0]\n",
    "            maxi = arr[1]\n",
    "        else:\n",
    "            mini = arr[1]\n",
    "            maxi = arr[0]\n",
    "        start_index = 2\n",
    "\n",
    "    for i in range(start_index, n, 2):\n",
    "        if i + 1 < n:\n",
    "            if arr[i] < arr[i + 1]:\n",
    "                pair_min, pair_max = arr[i], arr[i + 1]\n",
    "            else:\n",
    "                pair_min, pair_max = arr[i + 1], arr[i]\n",
    "\n",
    "            if mini > pair_min:\n",
    "                mini = pair_min\n",
    "            if maxi < pair_max:\n",
    "                maxi = pair_max\n",
    "\n",
    "    return mini, maxi"
   ]
  },
  {
   "cell_type": "code",
   "execution_count": 11,
   "id": "85c6560b-c39f-4970-85f2-f0a2a2a5ae60",
   "metadata": {},
   "outputs": [],
   "source": [
    "def measure_time(algorithm, arr, repetitions=100):\n",
    "    times = []\n",
    "    for _ in range(repetitions):\n",
    "        start_time = time.time()\n",
    "        algorithm(arr)\n",
    "        elapsed_time = time.time() - start_time\n",
    "        times.append(elapsed_time)\n",
    "    return np.mean(times)"
   ]
  },
  {
   "cell_type": "code",
   "execution_count": 12,
   "id": "b4b3ff23-24a5-4ee3-a7de-c483ad61e027",
   "metadata": {},
   "outputs": [],
   "source": [
    "sizes = [1000, 1500, 2000, 2500, 3000, 3500, 3501, 5000, 5001,  10000, 15000, 30000, 50000, 100000, 1000000, 554742,\n",
    " 741490,\n",
    " 231646,\n",
    " 203332,\n",
    " 355092,\n",
    " 482689,\n",
    " 228333,\n",
    " 981943,\n",
    " 262172,\n",
    " 391796,\n",
    " 610872,\n",
    " 618161,\n",
    " 228236,\n",
    " 790368,\n",
    " 460212,\n",
    " 118029,\n",
    " 641847,\n",
    " 58739,\n",
    " 811879,\n",
    " 767970,\n",
    " 378751,\n",
    " 286715,\n",
    " 820569,\n",
    " 727831,\n",
    " 388098,\n",
    " 437712,\n",
    " 98181,\n",
    " 188960,\n",
    " 432497,\n",
    " 384107,\n",
    " 664109,\n",
    " 745264,\n",
    " 606511,\n",
    " 526761,\n",
    " 77534,\n",
    " 81620,\n",
    " 125246,\n",
    " 828252,\n",
    " 138634,\n",
    " 414949 ]\n",
    "repetitions = 100"
   ]
  },
  {
   "cell_type": "code",
   "execution_count": 13,
   "id": "fa937509-b8f8-40c2-8b05-8962b528ff08",
   "metadata": {},
   "outputs": [],
   "source": [
    "times_separate = []\n",
    "times_simultaneous = []"
   ]
  },
  {
   "cell_type": "code",
   "execution_count": 14,
   "id": "b7520df1-9d64-40ee-a217-682ed9b93853",
   "metadata": {},
   "outputs": [],
   "source": [
    "for size in sizes:\n",
    "    arr = np.random.choice(range(size * 10), size, replace=False)\n",
    "    \n",
    "    time_separate = measure_time(find_min_and_max_separate, arr, repetitions)\n",
    "    times_separate.append(time_separate)\n",
    "    \n",
    "    time_simultaneous = measure_time(find_min_and_max_simultaneous, arr, repetitions)\n",
    "    times_simultaneous.append(time_simultaneous)"
   ]
  },
  {
   "cell_type": "code",
   "execution_count": 15,
   "id": "bec4a6e2-727c-4cbe-bf7b-4ea13a52b241",
   "metadata": {},
   "outputs": [
    {
     "data": {
      "image/png": "[encoded data removed]",
      "text/plain": [
       "<Figure size 1000x600 with 1 Axes>"
      ]
     },
     "metadata": {},
     "output_type": "display_data"
    }
   ],
   "source": [
    "plt.figure(figsize=(10, 6))\n",
    "plt.scatter(sizes, times_separate, color='blue', label='Separado', marker='o')\n",
    "plt.scatter(sizes, times_simultaneous, color='red', label='Simultâneo', marker='x')\n",
    "\n",
    "plt.xlabel(\"Tamanho do vetor\")\n",
    "plt.ylabel(\"Tempo de execução (s)\")\n",
    "plt.title(\"Comparação de tempo de execução: Min e Max - Separado vs. Simultâneo\")\n",
    "plt.legend()\n",
    "plt.grid(True)\n",
    "plt.show()"
   ]
  }
 ],
 "metadata": {
  "kernelspec": {
   "display_name": "Python 3 (ipykernel)",
   "language": "python",
   "name": "python3"
  },
  "language_info": {
   "codemirror_mode": {
    "name": "ipython",
    "version": 3
   },
   "file_extension": ".py",
   "mimetype": "text/x-python",
   "name": "python",
   "nbconvert_exporter": "python",
   "pygments_lexer": "ipython3",
   "version": "3.10.13"
  }
 },
 "nbformat": 4,
 "nbformat_minor": 5
}
